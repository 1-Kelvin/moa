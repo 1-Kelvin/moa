{
  "nbformat": 4,
  "nbformat_minor": 0,
  "metadata": {
    "colab": {
      "name": "Data-Analysis.ipynb",
      "provenance": [],
      "collapsed_sections": [],
      "include_colab_link": true
    },
    "kernelspec": {
      "name": "python3",
      "display_name": "Python 3"
    }
  },
  "cells": [
    {
      "cell_type": "markdown",
      "metadata": {
        "id": "view-in-github",
        "colab_type": "text"
      },
      "source": [
        "<a href=\"https://colab.research.google.com/github/1-Kelvin/moa/blob/peterDataKafkaStream/data-analysis/Data_Analysis.ipynb\" target=\"_parent\"><img src=\"https://colab.research.google.com/assets/colab-badge.svg\" alt=\"Open In Colab\"/></a>"
      ]
    },
    {
      "cell_type": "code",
      "metadata": {
        "id": "aI9xZbc1sJT9",
        "outputId": "e8fdcf2c-6348-4a6d-d38c-61152bd9efbb",
        "colab": {
          "base_uri": "https://localhost:8080/"
        }
      },
      "source": [
        "print(\"test\")\n",
        "print(\"hallo\")\n",
        "print(\"hallo Simon & Kelvin\")\n",
        "# hallo"
      ],
      "execution_count": null,
      "outputs": [
        {
          "output_type": "stream",
          "text": [
            "test\n",
            "hallo\n",
            "hallo Simon & Kelvin\n"
          ],
          "name": "stdout"
        }
      ]
    }
  ]
}